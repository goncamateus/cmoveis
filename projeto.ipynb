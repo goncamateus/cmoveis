{
 "cells": [
  {
   "cell_type": "code",
   "execution_count": 1,
   "metadata": {},
   "outputs": [],
   "source": [
    "import pickle\n",
    "from knn import ProjectKNN\n",
    "from xgmodel import ProjectXGBOOST\n",
    "from mlp import ProjectMLP, MLP\n",
    "import torch\n",
    "import pandas as pd"
   ]
  },
  {
   "cell_type": "code",
   "execution_count": 4,
   "metadata": {},
   "outputs": [],
   "source": [
    "with open('knn.bin', 'rb') as fiile:\n",
    "    knn = pickle.load(fiile)\n",
    "knn.test_arx('test.csv')"
   ]
  },
  {
   "cell_type": "code",
   "execution_count": 5,
   "metadata": {},
   "outputs": [],
   "source": [
    "with open('xgboost.bin', 'rb') as fiile:\n",
    "    xgboost = pickle.load(fiile)\n",
    "xgboost.test_arx('test.csv')"
   ]
  },
  {
   "cell_type": "code",
   "execution_count": 8,
   "metadata": {},
   "outputs": [],
   "source": [
    "with open('mlp.bin', 'rb') as fiile:\n",
    "    mlp = pickle.load(fiile)\n",
    "\n",
    "test = pd.read_csv('test.csv')\n",
    "x_batch = test[[\n",
    "    x for x in test.columns if x not in ('lat', 'lon', 'pontoId')]].values\n",
    "\n",
    "x_batch = torch.tensor(x_batch).float().cuda()\n",
    "\n",
    "\n",
    "mlp.model_x.eval()\n",
    "out_x = mlp.model_x(x_batch)\n",
    "out_x = out_x.detach().cpu().numpy()\n",
    "\n",
    "mlp.model_y.eval()\n",
    "out_y = mlp.model_y(x_batch)\n",
    "out_y = out_y.detach().cpu().numpy()\n",
    "\n",
    "df = pd.DataFrame()\n",
    "df['pontoId'] = test.pontoId\n",
    "df['lat_pred'] = out_x\n",
    "df['lon_pred'] = out_y\n",
    "df.to_csv('Resultados_Equipe3_Metodo_MLP.csv', index=False)"
   ]
  },
  {
   "cell_type": "code",
   "execution_count": null,
   "metadata": {},
   "outputs": [],
   "source": []
  }
 ],
 "metadata": {
  "kernelspec": {
   "display_name": "Python 3",
   "language": "python",
   "name": "python3"
  },
  "language_info": {
   "codemirror_mode": {
    "name": "ipython",
    "version": 3
   },
   "file_extension": ".py",
   "mimetype": "text/x-python",
   "name": "python",
   "nbconvert_exporter": "python",
   "pygments_lexer": "ipython3",
   "version": "3.7.0"
  }
 },
 "nbformat": 4,
 "nbformat_minor": 2
}
