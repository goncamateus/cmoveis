{
 "cells": [
  {
   "cell_type": "code",
   "execution_count": 53,
   "metadata": {},
   "outputs": [],
   "source": [
    "import os\n",
    "\n",
    "import numpy as np\n",
    "import pandas as pd\n",
    "import matplotlib.pyplot as plt\n",
    "from sklearn.neighbors import KNeighborsRegressor\n",
    "from sklearn.model_selection import GridSearchCV\n",
    "from geopy.distance import distance\n",
    "import xgboost "
   ]
  },
  {
   "cell_type": "code",
   "execution_count": 2,
   "metadata": {},
   "outputs": [],
   "source": [
    "class ProjectKNN:\n",
    "    data = None\n",
    "    data_train = None\n",
    "    data_test = None\n",
    "    model = None\n",
    "    optimizer = None\n",
    "    loss_function = None\n",
    "    model_loss = 10000\n",
    "    early_stop = 0\n",
    "\n",
    "    def __init__(self, data_path='LocTreino_Equipe_3.csv', log_dir='log_mlp/'):\n",
    "        self.data = pd.read_csv(data_path)\n",
    "        self.preproccess_data()\n",
    "        self.split_data()\n",
    "        self.declare_model()\n",
    "\n",
    "    def preproccess_data(self):\n",
    "        self.data = self.data.drop_duplicates()\n",
    "        self.data = self.data.dropna()\n",
    "\n",
    "    def split_data(self):\n",
    "        self.X = self.data[[\n",
    "            x for x in self.data.columns if x not in ('lat', 'lon')]].values\n",
    "        self.y = self.data[[\n",
    "            x for x in self.data.columns if x in ('lat', 'lon')]].values\n",
    "\n",
    "        self.data_train = self.data_test = self.data\n",
    "        self.data_train = self.data_train[:int(0.9 * len(self.data_train))]\n",
    "        self.data_test = self.data_test[int(0.9 * len(self.data_test)):]\n",
    "\n",
    "    def declare_model(self):\n",
    "        params = {'n_neighbors': [1, 3, 5, 8, 13],\n",
    "                  'metric': ['euclidian', 'manhattan'],\n",
    "                  'weights': ['uniform', 'distance'],\n",
    "                  'leaf_size': [30, 33, 55, 88]\n",
    "                  }\n",
    "        knn = KNeighborsRegressor()\n",
    "        self.model = GridSearchCV(knn, params,\n",
    "                                  verbose=1, cv=3, n_jobs=-1)\n",
    "\n",
    "    def train(self):\n",
    "        batch = self.data_train\n",
    "        x_batch = batch[[\n",
    "            x for x in batch.columns if x not in ('lat', 'lon')]].values\n",
    "        y_batch = batch[[\n",
    "            x for x in batch.columns if x in ('lat', 'lon')]].values\n",
    "\n",
    "        self.model.fit(x_batch, y_batch)\n",
    "        self.model = knn.model.best_estimator_\n",
    "        print(self.model)\n",
    "\n",
    "    def test(self):\n",
    "        x_batch = self.data_test[[\n",
    "            x for x in self.data_test.columns if x not in ('lat', 'lon')]].values\n",
    "        y_batch = self.data_test[[\n",
    "            x for x in self.data_test.columns if x in ('lat', 'lon')]].values\n",
    "\n",
    "        out = self.model.predict(x_batch)\n",
    "        return out, y_batch"
   ]
  },
  {
   "cell_type": "code",
   "execution_count": 3,
   "metadata": {},
   "outputs": [
    {
     "name": "stdout",
     "output_type": "stream",
     "text": [
      "Fitting 3 folds for each of 80 candidates, totalling 240 fits\n"
     ]
    },
    {
     "name": "stderr",
     "output_type": "stream",
     "text": [
      "[Parallel(n_jobs=-1)]: Using backend LokyBackend with 8 concurrent workers.\n",
      "[Parallel(n_jobs=-1)]: Done  40 tasks      | elapsed:    1.1s\n"
     ]
    },
    {
     "name": "stdout",
     "output_type": "stream",
     "text": [
      "KNeighborsRegressor(algorithm='auto', leaf_size=30, metric='manhattan',\n",
      "                    metric_params=None, n_jobs=None, n_neighbors=1, p=2,\n",
      "                    weights='distance')\n"
     ]
    },
    {
     "name": "stderr",
     "output_type": "stream",
     "text": [
      "[Parallel(n_jobs=-1)]: Done 240 out of 240 | elapsed:    1.4s finished\n"
     ]
    }
   ],
   "source": [
    "knn = ProjectKNN()\n",
    "knn.train()\n",
    "out, y_batch = knn.test()"
   ]
  },
  {
   "cell_type": "code",
   "execution_count": 71,
   "metadata": {},
   "outputs": [
    {
     "data": {
      "image/png": "[encoded data removed]",
      "text/plain": [
       "<Figure size 432x288 with 1 Axes>"
      ]
     },
     "metadata": {
      "needs_background": "light"
     },
     "output_type": "display_data"
    },
    {
     "ename": "ValueError",
     "evalue": "When creating a Point from sequence, it must not have more than 3 items.",
     "output_type": "error",
     "traceback": [
      "\u001b[0;31m---------------------------------------------------------------------------\u001b[0m",
      "\u001b[0;31mValueError\u001b[0m                                Traceback (most recent call last)",
      "\u001b[0;32m<ipython-input-71-597673c42378>\u001b[0m in \u001b[0;36m<module>\u001b[0;34m\u001b[0m\n\u001b[1;32m     12\u001b[0m \u001b[0mdists\u001b[0m \u001b[0;34m=\u001b[0m \u001b[0;34m[\u001b[0m\u001b[0;34m]\u001b[0m\u001b[0;34m\u001b[0m\u001b[0m\n\u001b[1;32m     13\u001b[0m \u001b[0;32mfor\u001b[0m \u001b[0mi\u001b[0m \u001b[0;32min\u001b[0m \u001b[0mrange\u001b[0m\u001b[0;34m(\u001b[0m\u001b[0mlen\u001b[0m\u001b[0;34m(\u001b[0m\u001b[0mout\u001b[0m\u001b[0;34m)\u001b[0m\u001b[0;34m)\u001b[0m\u001b[0;34m:\u001b[0m\u001b[0;34m\u001b[0m\u001b[0m\n\u001b[0;32m---> 14\u001b[0;31m     \u001b[0mdist\u001b[0m \u001b[0;34m=\u001b[0m \u001b[0mdistance\u001b[0m\u001b[0;34m(\u001b[0m\u001b[0my_batch\u001b[0m\u001b[0;34m,\u001b[0m \u001b[0mout\u001b[0m\u001b[0;34m)\u001b[0m\u001b[0;34m.\u001b[0m\u001b[0mkm\u001b[0m\u001b[0;34m*\u001b[0m\u001b[0;36m1000\u001b[0m\u001b[0;34m\u001b[0m\u001b[0m\n\u001b[0m\u001b[1;32m     15\u001b[0m     \u001b[0mdists\u001b[0m\u001b[0;34m.\u001b[0m\u001b[0mappend\u001b[0m\u001b[0;34m(\u001b[0m\u001b[0mdist\u001b[0m\u001b[0;34m)\u001b[0m\u001b[0;34m\u001b[0m\u001b[0m\n\u001b[1;32m     16\u001b[0m \u001b[0;34m\u001b[0m\u001b[0m\n",
      "\u001b[0;32m~/.cache/pypoetry/virtualenvs/jurimetria-py3.7/lib/python3.7/site-packages/geopy/distance.py\u001b[0m in \u001b[0;36m__init__\u001b[0;34m(self, *args, **kwargs)\u001b[0m\n\u001b[1;32m    387\u001b[0m         \u001b[0mkwargs\u001b[0m\u001b[0;34m.\u001b[0m\u001b[0mpop\u001b[0m\u001b[0;34m(\u001b[0m\u001b[0;34m'iterations'\u001b[0m\u001b[0;34m,\u001b[0m \u001b[0;36m0\u001b[0m\u001b[0;34m)\u001b[0m\u001b[0;34m\u001b[0m\u001b[0m\n\u001b[1;32m    388\u001b[0m         \u001b[0mmajor\u001b[0m\u001b[0;34m,\u001b[0m \u001b[0mminor\u001b[0m\u001b[0;34m,\u001b[0m \u001b[0mf\u001b[0m \u001b[0;34m=\u001b[0m \u001b[0mself\u001b[0m\u001b[0;34m.\u001b[0m\u001b[0mELLIPSOID\u001b[0m\u001b[0;34m\u001b[0m\u001b[0m\n\u001b[0;32m--> 389\u001b[0;31m         \u001b[0msuper\u001b[0m\u001b[0;34m(\u001b[0m\u001b[0mgeodesic\u001b[0m\u001b[0;34m,\u001b[0m \u001b[0mself\u001b[0m\u001b[0;34m)\u001b[0m\u001b[0;34m.\u001b[0m\u001b[0m__init__\u001b[0m\u001b[0;34m(\u001b[0m\u001b[0;34m*\u001b[0m\u001b[0margs\u001b[0m\u001b[0;34m,\u001b[0m \u001b[0;34m**\u001b[0m\u001b[0mkwargs\u001b[0m\u001b[0;34m)\u001b[0m\u001b[0;34m\u001b[0m\u001b[0m\n\u001b[0m\u001b[1;32m    390\u001b[0m \u001b[0;34m\u001b[0m\u001b[0m\n\u001b[1;32m    391\u001b[0m     \u001b[0;32mdef\u001b[0m \u001b[0mset_ellipsoid\u001b[0m\u001b[0;34m(\u001b[0m\u001b[0mself\u001b[0m\u001b[0;34m,\u001b[0m \u001b[0mellipsoid\u001b[0m\u001b[0;34m)\u001b[0m\u001b[0;34m:\u001b[0m\u001b[0;34m\u001b[0m\u001b[0m\n",
      "\u001b[0;32m~/.cache/pypoetry/virtualenvs/jurimetria-py3.7/lib/python3.7/site-packages/geopy/distance.py\u001b[0m in \u001b[0;36m__init__\u001b[0;34m(self, *args, **kwargs)\u001b[0m\n\u001b[1;32m    162\u001b[0m         \u001b[0;32melif\u001b[0m \u001b[0mlen\u001b[0m\u001b[0;34m(\u001b[0m\u001b[0margs\u001b[0m\u001b[0;34m)\u001b[0m \u001b[0;34m>\u001b[0m \u001b[0;36m1\u001b[0m\u001b[0;34m:\u001b[0m\u001b[0;34m\u001b[0m\u001b[0m\n\u001b[1;32m    163\u001b[0m             \u001b[0;32mfor\u001b[0m \u001b[0ma\u001b[0m\u001b[0;34m,\u001b[0m \u001b[0mb\u001b[0m \u001b[0;32min\u001b[0m \u001b[0mutil\u001b[0m\u001b[0;34m.\u001b[0m\u001b[0mpairwise\u001b[0m\u001b[0;34m(\u001b[0m\u001b[0margs\u001b[0m\u001b[0;34m)\u001b[0m\u001b[0;34m:\u001b[0m\u001b[0;34m\u001b[0m\u001b[0m\n\u001b[0;32m--> 164\u001b[0;31m                 \u001b[0mkilometers\u001b[0m \u001b[0;34m+=\u001b[0m \u001b[0mself\u001b[0m\u001b[0;34m.\u001b[0m\u001b[0mmeasure\u001b[0m\u001b[0;34m(\u001b[0m\u001b[0ma\u001b[0m\u001b[0;34m,\u001b[0m \u001b[0mb\u001b[0m\u001b[0;34m)\u001b[0m\u001b[0;34m\u001b[0m\u001b[0m\n\u001b[0m\u001b[1;32m    165\u001b[0m \u001b[0;34m\u001b[0m\u001b[0m\n\u001b[1;32m    166\u001b[0m         \u001b[0mkilometers\u001b[0m \u001b[0;34m+=\u001b[0m \u001b[0munits\u001b[0m\u001b[0;34m.\u001b[0m\u001b[0mkilometers\u001b[0m\u001b[0;34m(\u001b[0m\u001b[0;34m**\u001b[0m\u001b[0mkwargs\u001b[0m\u001b[0;34m)\u001b[0m\u001b[0;34m\u001b[0m\u001b[0m\n",
      "\u001b[0;32m~/.cache/pypoetry/virtualenvs/jurimetria-py3.7/lib/python3.7/site-packages/geopy/distance.py\u001b[0m in \u001b[0;36mmeasure\u001b[0;34m(self, a, b)\u001b[0m\n\u001b[1;32m    408\u001b[0m     \u001b[0;31m# Call geographiclib routines for measure and destination\u001b[0m\u001b[0;34m\u001b[0m\u001b[0;34m\u001b[0m\u001b[0m\n\u001b[1;32m    409\u001b[0m     \u001b[0;32mdef\u001b[0m \u001b[0mmeasure\u001b[0m\u001b[0;34m(\u001b[0m\u001b[0mself\u001b[0m\u001b[0;34m,\u001b[0m \u001b[0ma\u001b[0m\u001b[0;34m,\u001b[0m \u001b[0mb\u001b[0m\u001b[0;34m)\u001b[0m\u001b[0;34m:\u001b[0m\u001b[0;34m\u001b[0m\u001b[0m\n\u001b[0;32m--> 410\u001b[0;31m         \u001b[0ma\u001b[0m\u001b[0;34m,\u001b[0m \u001b[0mb\u001b[0m \u001b[0;34m=\u001b[0m \u001b[0mPoint\u001b[0m\u001b[0;34m(\u001b[0m\u001b[0ma\u001b[0m\u001b[0;34m)\u001b[0m\u001b[0;34m,\u001b[0m \u001b[0mPoint\u001b[0m\u001b[0;34m(\u001b[0m\u001b[0mb\u001b[0m\u001b[0;34m)\u001b[0m\u001b[0;34m\u001b[0m\u001b[0m\n\u001b[0m\u001b[1;32m    411\u001b[0m         \u001b[0mlat1\u001b[0m\u001b[0;34m,\u001b[0m \u001b[0mlon1\u001b[0m \u001b[0;34m=\u001b[0m \u001b[0ma\u001b[0m\u001b[0;34m.\u001b[0m\u001b[0mlatitude\u001b[0m\u001b[0;34m,\u001b[0m \u001b[0ma\u001b[0m\u001b[0;34m.\u001b[0m\u001b[0mlongitude\u001b[0m\u001b[0;34m\u001b[0m\u001b[0m\n\u001b[1;32m    412\u001b[0m         \u001b[0mlat2\u001b[0m\u001b[0;34m,\u001b[0m \u001b[0mlon2\u001b[0m \u001b[0;34m=\u001b[0m \u001b[0mb\u001b[0m\u001b[0;34m.\u001b[0m\u001b[0mlatitude\u001b[0m\u001b[0;34m,\u001b[0m \u001b[0mb\u001b[0m\u001b[0;34m.\u001b[0m\u001b[0mlongitude\u001b[0m\u001b[0;34m\u001b[0m\u001b[0m\n",
      "\u001b[0;32m~/.cache/pypoetry/virtualenvs/jurimetria-py3.7/lib/python3.7/site-packages/geopy/point.py\u001b[0m in \u001b[0;36m__new__\u001b[0;34m(cls, latitude, longitude, altitude)\u001b[0m\n\u001b[1;32m    163\u001b[0m                     )\n\u001b[1;32m    164\u001b[0m                 \u001b[0;32melse\u001b[0m\u001b[0;34m:\u001b[0m\u001b[0;34m\u001b[0m\u001b[0m\n\u001b[0;32m--> 165\u001b[0;31m                     \u001b[0;32mreturn\u001b[0m \u001b[0mcls\u001b[0m\u001b[0;34m.\u001b[0m\u001b[0mfrom_sequence\u001b[0m\u001b[0;34m(\u001b[0m\u001b[0mseq\u001b[0m\u001b[0;34m)\u001b[0m\u001b[0;34m\u001b[0m\u001b[0m\n\u001b[0m\u001b[1;32m    166\u001b[0m \u001b[0;34m\u001b[0m\u001b[0m\n\u001b[1;32m    167\u001b[0m         \u001b[0;32mif\u001b[0m \u001b[0msingle_arg\u001b[0m\u001b[0;34m:\u001b[0m\u001b[0;34m\u001b[0m\u001b[0m\n",
      "\u001b[0;32m~/.cache/pypoetry/virtualenvs/jurimetria-py3.7/lib/python3.7/site-packages/geopy/point.py\u001b[0m in \u001b[0;36mfrom_sequence\u001b[0;34m(cls, seq)\u001b[0m\n\u001b[1;32m    401\u001b[0m         \u001b[0margs\u001b[0m \u001b[0;34m=\u001b[0m \u001b[0mtuple\u001b[0m\u001b[0;34m(\u001b[0m\u001b[0mislice\u001b[0m\u001b[0;34m(\u001b[0m\u001b[0mseq\u001b[0m\u001b[0;34m,\u001b[0m \u001b[0;36m4\u001b[0m\u001b[0;34m)\u001b[0m\u001b[0;34m)\u001b[0m\u001b[0;34m\u001b[0m\u001b[0m\n\u001b[1;32m    402\u001b[0m         \u001b[0;32mif\u001b[0m \u001b[0mlen\u001b[0m\u001b[0;34m(\u001b[0m\u001b[0margs\u001b[0m\u001b[0;34m)\u001b[0m \u001b[0;34m>\u001b[0m \u001b[0;36m3\u001b[0m\u001b[0;34m:\u001b[0m\u001b[0;34m\u001b[0m\u001b[0m\n\u001b[0;32m--> 403\u001b[0;31m             raise ValueError('When creating a Point from sequence, it '\n\u001b[0m\u001b[1;32m    404\u001b[0m                              'must not have more than 3 items.')\n\u001b[1;32m    405\u001b[0m         \u001b[0;32mreturn\u001b[0m \u001b[0mcls\u001b[0m\u001b[0;34m(\u001b[0m\u001b[0;34m*\u001b[0m\u001b[0margs\u001b[0m\u001b[0;34m)\u001b[0m\u001b[0;34m\u001b[0m\u001b[0m\n",
      "\u001b[0;31mValueError\u001b[0m: When creating a Point from sequence, it must not have more than 3 items."
     ]
    }
   ],
   "source": [
    "fig, ax = plt.subplots()\n",
    "ax.plot([x[0] for x in y_batch], [x[1] for x in y_batch], 'o', label='Real')\n",
    "ax.plot([x[0] for x in out], [x[1] for x in out], 'x', label='KNN')\n",
    "ax.legend()\n",
    "ax.set_title('Comparação')\n",
    "plt.show()\n",
    "error = y_batch - out\n",
    "errors_x = error[:, 0]\n",
    "errors_y = error[:, 1]\n",
    "\n",
    "\n",
    "dists = []\n",
    "for i in range(len(out)):\n",
    "    dist = distance(y_batch[i], out[i]).km*1000\n",
    "    dists.append(dist)\n",
    "\n",
    "print(f'Erro Médio: {np.mean(dists)}\\nErro Mínimo: {min(dists)}\\nErro Máximo: {max(dists)}\\nDesvio Padrão: {np.std(dists)}')\n",
    "\n",
    "fig, ax = plt.subplots()\n",
    "ax.hist(dists, 10)\n",
    "ax.set_title('Histogram Dists')\n",
    "plt.show()\n",
    "\n",
    "fig, ax = plt.subplots()\n",
    "ax.boxplot(dists)\n",
    "ax.set_title('BoxPlot Dists')\n",
    "plt.show()"
   ]
  },
  {
   "cell_type": "code",
   "execution_count": 33,
   "metadata": {
    "scrolled": true
   },
   "outputs": [
    {
     "data": {
      "image/png": "[encoded data removed]",
      "text/plain": [
       "<Figure size 432x288 with 1 Axes>"
      ]
     },
     "metadata": {
      "needs_background": "light"
     },
     "output_type": "display_data"
    },
    {
     "data": {
      "image/png": "[encoded data removed]",
      "text/plain": [
       "<Figure size 432x288 with 1 Axes>"
      ]
     },
     "metadata": {
      "needs_background": "light"
     },
     "output_type": "display_data"
    }
   ],
   "source": [
    "lat = knn.data.lat\n",
    "lon = knn.data.lon\n",
    "\n",
    "lat = lat.values\n",
    "lon = lon.values\n",
    "\n",
    "fig, ax = plt.subplots()\n",
    "ax.boxplot(lat)\n",
    "ax.set_title('BoxPlot Dists')\n",
    "plt.show()\n",
    "fig, ax = plt.subplots()\n",
    "ax.boxplot(lon)\n",
    "ax.set_title('BoxPlot Dists')\n",
    "plt.show()"
   ]
  },
  {
   "cell_type": "code",
   "execution_count": null,
   "metadata": {},
   "outputs": [],
   "source": [
    "parameters_for_testing = {\n",
    "   'colsample_bytree':[0.4,0.6,0.8],\n",
    "   'gamma':[0,0.03,0.1,0.3],\n",
    "   'min_child_weight':[1.5,6,10],\n",
    "   'learning_rate':[0.1,0.07],\n",
    "   'max_depth':[3,5],\n",
    "   'n_estimators':[10000],\n",
    "   'reg_alpha':[1e-5, 1e-2,  0.75],\n",
    "   'reg_lambda':[1e-5, 1e-2, 0.45],\n",
    "   'subsample':[0.6,0.95]  \n",
    "}\n",
    "\n",
    "xgb_model = xgboost.XGBRegressor(learning_rate =0.1, n_estimators=1000, max_depth=5,\n",
    "    min_child_weight=1, gamma=0, subsample=0.8, colsample_bytree=0.8, nthread=6, scale_pos_weight=1, seed=27)\n",
    "\n",
    "gsearch1 = GridSearchCV(estimator = xgb_model, param_grid = parameters_for_testing, n_jobs=6,iid=False, verbose=10,scoring='neg_mean_squared_error')\n",
    "gsearch1.fit(train_x,train_y)"
   ]
  },
  {
   "cell_type": "code",
   "execution_count": 67,
   "metadata": {},
   "outputs": [],
   "source": [
    "class ProjectXGBOOST:\n",
    "    data = None\n",
    "    data_train = None\n",
    "    data_test = None\n",
    "    model = None\n",
    "    optimizer = None\n",
    "    loss_function = None\n",
    "    model_loss = 10000\n",
    "    early_stop = 0\n",
    "\n",
    "    def __init__(self, data_path='LocTreino_Equipe_3.csv', log_dir='log_mlp/'):\n",
    "        self.data = pd.read_csv(data_path)\n",
    "        self.preproccess_data()\n",
    "        self.split_data()\n",
    "        self.declare_model()\n",
    "\n",
    "    def preproccess_data(self):\n",
    "        self.data = self.data.drop_duplicates()\n",
    "        self.data = self.data.dropna()\n",
    "\n",
    "    def split_data(self):\n",
    "        self.X = self.data[[\n",
    "            x for x in self.data.columns if x not in ('lat', 'lon')]].values\n",
    "        self.y = self.data[[\n",
    "            x for x in self.data.columns if x in ('lat', 'lon')]].values\n",
    "\n",
    "        self.data_train = self.data_test = self.data\n",
    "        self.data_train = self.data_train[:int(0.9 * len(self.data_train))]\n",
    "        self.data_test = self.data_test[int(0.9 * len(self.data_test)):]\n",
    "\n",
    "    def declare_model(self):\n",
    "        self.model_lat = xgboost.XGBRegressor(colsample_bytree=0.4,\n",
    "                 gamma=0,                 \n",
    "                 learning_rate=0.07,\n",
    "                 max_depth=3,\n",
    "                 min_child_weight=1.5,\n",
    "                 n_estimators=10000,                                                                    \n",
    "                 reg_alpha=0.75,\n",
    "                 reg_lambda=0.45,\n",
    "                 subsample=0.6,\n",
    "                 seed=42)\n",
    "        self.model_lon = xgboost.XGBRegressor(colsample_bytree=0.4,\n",
    "                 gamma=0,                 \n",
    "                 learning_rate=0.07,\n",
    "                 max_depth=3,\n",
    "                 min_child_weight=1.5,\n",
    "                 n_estimators=10000,                                                                    \n",
    "                 reg_alpha=0.75,\n",
    "                 reg_lambda=0.45,\n",
    "                 subsample=0.6,\n",
    "                 seed=42)\n",
    "\n",
    "    def train(self):\n",
    "        batch = self.data_train\n",
    "        x_batch = batch[[\n",
    "            x for x in batch.columns if x not in ('lat', 'lon')]].values\n",
    "        y_batch = batch[[\n",
    "            x for x in batch.columns if x in ('lat', 'lon')]].values\n",
    "\n",
    "        self.model_lat.fit(x_batch, batch.lat)\n",
    "        self.model_lon.fit(x_batch, batch.lon)\n",
    "        \n",
    "\n",
    "    def test(self):\n",
    "        x_batch = self.data_test[[\n",
    "            x for x in self.data_test.columns if x not in ('lat', 'lon')]].values\n",
    "        y_batch = self.data_test[[\n",
    "            x for x in self.data_test.columns if x in ('lat', 'lon')]].values\n",
    "\n",
    "        out_lat = self.model_lat.predict(x_batch)\n",
    "        out_lon = self.model_lon.predict(x_batch)\n",
    "        out = list(zip(out_lat, out_lon))\n",
    "        return out, y_batch"
   ]
  },
  {
   "cell_type": "code",
   "execution_count": 68,
   "metadata": {},
   "outputs": [
    {
     "name": "stderr",
     "output_type": "stream",
     "text": [
      "/home/inteligonca/.cache/pypoetry/virtualenvs/jurimetria-py3.7/lib/python3.7/site-packages/xgboost/core.py:587: FutureWarning: Series.base is deprecated and will be removed in a future version\n",
      "  if getattr(data, 'base', None) is not None and \\\n",
      "/home/inteligonca/.cache/pypoetry/virtualenvs/jurimetria-py3.7/lib/python3.7/site-packages/xgboost/core.py:588: FutureWarning: Series.base is deprecated and will be removed in a future version\n",
      "  data.base is not None and isinstance(data, np.ndarray) \\\n"
     ]
    },
    {
     "name": "stdout",
     "output_type": "stream",
     "text": [
      "[15:19:53] WARNING: /workspace/src/objective/regression_obj.cu:152: reg:linear is now deprecated in favor of reg:squarederror.\n",
      "[15:19:56] WARNING: /workspace/src/objective/regression_obj.cu:152: reg:linear is now deprecated in favor of reg:squarederror.\n"
     ]
    }
   ],
   "source": [
    "xgmodel = ProjectXGBOOST()\n",
    "xgmodel.train()\n",
    "out, y_batch = xgmodel.test()"
   ]
  },
  {
   "cell_type": "code",
   "execution_count": null,
   "metadata": {},
   "outputs": [],
   "source": []
  },
  {
   "cell_type": "code",
   "execution_count": null,
   "metadata": {},
   "outputs": [],
   "source": []
  },
  {
   "cell_type": "code",
   "execution_count": null,
   "metadata": {},
   "outputs": [],
   "source": []
  }
 ],
 "metadata": {
  "kernelspec": {
   "display_name": "Python 3",
   "language": "python",
   "name": "python3"
  },
  "language_info": {
   "codemirror_mode": {
    "name": "ipython",
    "version": 3
   },
   "file_extension": ".py",
   "mimetype": "text/x-python",
   "name": "python",
   "nbconvert_exporter": "python",
   "pygments_lexer": "ipython3",
   "version": "3.7.0"
  }
 },
 "nbformat": 4,
 "nbformat_minor": 2
}
