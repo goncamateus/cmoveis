{
 "cells": [
  {
   "cell_type": "code",
   "execution_count": 1,
   "metadata": {},
   "outputs": [],
   "source": [
    "import numpy\n",
    "import math"
   ]
  },
  {
   "cell_type": "code",
   "execution_count": 16,
   "metadata": {},
   "outputs": [
    {
     "name": "stdout",
     "output_type": "stream",
     "text": [
      "1.4271750831278476 0.17934513882310776\n",
      "-8.162904044202884 -34.921460026877874\n"
     ]
    }
   ],
   "source": [
    "#assuming elevation = 0\n",
    "earthR = 6371\n",
    "# LatA = 37.418436\n",
    "# LonA = -121.963477\n",
    "# DistA = 0.265710701754\n",
    "# LatB = 37.417243\n",
    "# LonB = -121.961889\n",
    "# DistB = 0.234592423446\n",
    "# LatC = 37.418692\n",
    "# LonC = -121.960194\n",
    "# DistC = 0.0548954278262\n",
    "\n",
    "LatA = -8.173778\n",
    "LonA = -34.919131\n",
    "DistA = 0.01563634819898928\n",
    "LatB = -8.148146\n",
    "LonB = -34.920535\n",
    "DistB = 0.014164169477947068\n",
    "LatC = -8.155438\n",
    "LonC = -34.933234\n",
    "DistC = 0.007720308024940668\n",
    "\n",
    "#using authalic sphere\n",
    "#if using an ellipsoid this step is slightly different\n",
    "#Convert geodetic Lat/Long to ECEF xyz\n",
    "#   1. Convert Lat/Long to radians\n",
    "#   2. Convert Lat/Long(radians) to ECEF\n",
    "xA = earthR *(math.cos(math.radians(LatA)) * math.cos(math.radians(LonA)))\n",
    "yA = earthR *(math.cos(math.radians(LatA)) * math.sin(math.radians(LonA)))\n",
    "zA = earthR *(math.sin(math.radians(LatA)))\n",
    "\n",
    "xB = earthR *(math.cos(math.radians(LatB)) * math.cos(math.radians(LonB)))\n",
    "yB = earthR *(math.cos(math.radians(LatB)) * math.sin(math.radians(LonB)))\n",
    "zB = earthR *(math.sin(math.radians(LatB)))\n",
    "\n",
    "xC = earthR *(math.cos(math.radians(LatC)) * math.cos(math.radians(LonC)))\n",
    "yC = earthR *(math.cos(math.radians(LatC)) * math.sin(math.radians(LonC)))\n",
    "zC = earthR *(math.sin(math.radians(LatC)))\n",
    "\n",
    "P1 = numpy.array([xA, yA, zA])\n",
    "P2 = numpy.array([xB, yB, zB])\n",
    "P3 = numpy.array([xC, yC, zC])\n",
    "\n",
    "#from wikipedia\n",
    "#transform to get circle 1 at origin\n",
    "#transform to get circle 2 on x axis\n",
    "ex = (P2 - P1)/(numpy.linalg.norm(P2 - P1))\n",
    "i = numpy.dot(ex, P3 - P1)\n",
    "ey = (P3 - P1 - i*ex)/(numpy.linalg.norm(P3 - P1 - i*ex))\n",
    "ez = numpy.cross(ex,ey)\n",
    "d = numpy.linalg.norm(P2 - P1)\n",
    "j = numpy.dot(ey, P3 - P1)\n",
    "\n",
    "#from wikipedia\n",
    "#plug and chug using above values\n",
    "x = (pow(DistA,2) - pow(DistB,2) + pow(d,2))/(2*d)\n",
    "y = ((pow(DistA,2) - pow(DistC,2) + pow(i,2) + pow(j,2))/(2*j)) - ((i/j)*x)\n",
    "print (x,y)\n",
    "\n",
    "# only one case shown here\n",
    "z = numpy.sqrt(numpy.abs(pow(DistA,2) - pow(x,2) - pow(y,2)))\n",
    "\n",
    "#triPt is an array with ECEF x,y,z of trilateration point\n",
    "triPt = P1 + x*ex + y*ey + z*ez\n",
    "\n",
    "#convert back to lat/long from ECEF\n",
    "#convert to degrees\n",
    "lat = math.degrees(math.asin(triPt[2] / earthR))\n",
    "lon = math.degrees(math.atan2(triPt[1],triPt[0]))\n",
    "\n",
    "print (lat, lon)"
   ]
  },
  {
   "cell_type": "code",
   "execution_count": 9,
   "metadata": {},
   "outputs": [
    {
     "name": "stdout",
     "output_type": "stream",
     "text": [
      "0.01563634819898928\n",
      "0.014164169477947068\n",
      "0.007720308024940668\n"
     ]
    }
   ],
   "source": [
    "# -8.155438, -34.933234 3\n",
    "# -8.148146, -34.920535 2\n",
    "# -8.173778, -34.919131 1\n",
    "\n",
    "d1 = math.sqrt((-8.160522 - (-8.173778))*(-8.160522 - (-8.173778)) + (-34.927424 - (-34.919131))*(-34.927424 - (-34.919131)))\n",
    "print (d1)\n",
    "d2 = math.sqrt((-8.160522 - (-8.148146))*(-8.160522 - (-8.148146)) + (-34.927424 - (-34.920535))*(-34.927424 - (-34.920535)))\n",
    "print (d2)\n",
    "d3 = math.sqrt((-8.160522 - (-8.155438))*(-8.160522 - (-8.155438)) + (-34.927424 - (-34.933234))*(-34.927424 - (-34.933234)))\n",
    "print (d3)\n",
    "\n",
    "-8.160522, -34.927424"
   ]
  },
  {
   "cell_type": "code",
   "execution_count": 28,
   "metadata": {},
   "outputs": [
    {
     "name": "stdout",
     "output_type": "stream",
     "text": [
      "36.88383710155292\n"
     ]
    }
   ],
   "source": [
    "txPower = -59.0 #hard coded power value. Usually ranges between -59 to -65\n",
    "rssi = -95.47\n",
    "ratio = rssi*1.0/txPower;\n",
    "\n",
    "if (ratio < 1.0):\n",
    "    result = math.pow(ratio,10)\n",
    "else:\n",
    "    distance =  (0.89976)*math.pow(ratio,7.7095) + 0.111   \n",
    "    print(distance)"
   ]
  },
  {
   "cell_type": "code",
   "execution_count": 27,
   "metadata": {},
   "outputs": [
    {
     "name": "stdout",
     "output_type": "stream",
     "text": [
      "0.013742623475888168\n"
     ]
    }
   ],
   "source": [
    "#-8.05668, -34.95561 \n",
    "#rssi_1_1 -95.47\n",
    "\n",
    "#-8.04342 -34.952\n",
    "\n",
    "d1_1 = math.sqrt((-8.05668 - (-8.04342))*(-8.05668 - (-8.04342)) + (-34.95561 - (-34.952))*(-34.95561 - (-34.952)))\n",
    "print (d1_1)\n"
   ]
  },
  {
   "cell_type": "code",
   "execution_count": null,
   "metadata": {},
   "outputs": [],
   "source": []
  }
 ],
 "metadata": {
  "kernelspec": {
   "display_name": "Python 3",
   "language": "python",
   "name": "python3"
  },
  "language_info": {
   "codemirror_mode": {
    "name": "ipython",
    "version": 3
   },
   "file_extension": ".py",
   "mimetype": "text/x-python",
   "name": "python",
   "nbconvert_exporter": "python",
   "pygments_lexer": "ipython3",
   "version": "3.6.8"
  }
 },
 "nbformat": 4,
 "nbformat_minor": 2
}
